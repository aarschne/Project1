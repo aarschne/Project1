{
 "cells": [
  {
   "cell_type": "code",
   "execution_count": 12,
   "id": "d89ea480",
   "metadata": {},
   "outputs": [
    {
     "name": "stdout",
     "output_type": "stream",
     "text": [
      "This is a test. This is line 1\n"
     ]
    }
   ],
   "source": [
    "print(\"This is a test. This is line 1\")"
   ]
  },
  {
   "cell_type": "code",
   "execution_count": 8,
   "id": "05517b0b",
   "metadata": {},
   "outputs": [
    {
     "name": "stdout",
     "output_type": "stream",
     "text": [
      "This is the second cell.\n"
     ]
    }
   ],
   "source": [
    "print(\"This is the second cell.\")"
   ]
  },
  {
   "cell_type": "code",
   "execution_count": 11,
   "id": "2fe6e5b0",
   "metadata": {},
   "outputs": [
    {
     "name": "stdout",
     "output_type": "stream",
     "text": [
      "This is the third cell\n"
     ]
    }
   ],
   "source": [
    "print(\"This is the third cell\")"
   ]
  },
  {
   "cell_type": "code",
   "execution_count": null,
   "id": "90d715f1",
   "metadata": {},
   "outputs": [],
   "source": []
  }
 ],
 "metadata": {
  "kernelspec": {
   "display_name": "Python 3 (ipykernel)",
   "language": "python",
   "name": "python3"
  },
  "language_info": {
   "codemirror_mode": {
    "name": "ipython",
    "version": 3
   },
   "file_extension": ".py",
   "mimetype": "text/x-python",
   "name": "python",
   "nbconvert_exporter": "python",
   "pygments_lexer": "ipython3",
   "version": "3.10.9"
  }
 },
 "nbformat": 4,
 "nbformat_minor": 5
}
