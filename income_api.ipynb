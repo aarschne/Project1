{
 "cells": [
  {
   "cell_type": "code",
   "execution_count": null,
   "id": "3f0d7be7",
   "metadata": {},
   "outputs": [],
   "source": [
    "# import dependencies\n",
    "from api_keys import alpha_vantage_api_key\n",
    "from datetime import datetime, timedelta\n",
    "import pprint as pp\n",
    "import pandas as pd\n",
    "import requests\n",
    "import matplotlib.pyplot as plt"
   ]
  },
  {
   "cell_type": "code",
   "execution_count": null,
   "id": "16060940",
   "metadata": {},
   "outputs": [],
   "source": [
    "Get API data and put it in json"
   ]
  },
  {
   "cell_type": "code",
   "execution_count": null,
   "id": "f24addda",
   "metadata": {},
   "outputs": [],
   "source": [
    "# declare codes of tickers used for the manufacturers\n",
    "codes = [\"AAPL\", \"MSI\", \"GOOG\", \"GOOGL\"]\n",
    "manufacturers = [\"apple\", \"motorola\", \"google_class_c\", \"google_class_a\"]\n",
    "\n",
    "# declare date to end analysis at\n",
    "day_end = '2023/05/9'\n",
    "\n",
    "# declare dates and closing_vals\n",
    "dates = []\n",
    "open_vals = []\n",
    "high_vals = []\n",
    "low_vals = []\n",
    "closing_vals = []\n",
    "adj_closing_vals = []\n",
    "volumes = []\n",
    "dividends = []\n",
    "\n",
    "# create dataframe dictionary\n",
    "dfs = {}\n",
    "\n",
    "# initialize counter\n",
    "counter = 0\n",
    "\n",
    "# set number of days to go back\n",
    "num_days = 1825\n",
    "\n",
    "# main for loop that loops through the ticker codes\n",
    "for code in codes:\n",
    "    # get jsons\n",
    "    url = f'https://www.alphavantage.co/query?function=TIME_SERIES_DAILY_ADJUSTED&symbol={code}&outputsize=full&apikey={alpha_vantage_api_key}'\n",
    "    response = requests.get(url)\n",
    "    data_json = response.json()\n",
    "    \n",
    "    # set current day as the day we decided to end\n",
    "    current_day = datetime.strptime(day_end,'%Y/%m/%d') - timedelta(days=num_days)\n",
    "    \n",
    "    # loop that goes through all the days in question, starting in the past\n",
    "    for i in range(num_days):\n",
    "        try:\n",
    "            current_day_str = current_day.strftime('%Y-%m-%d')\n",
    "            open_vals.append(float(data_json[\"Time Series (Daily)\"]\n",
    "                                    [current_day_str][\"1. open\"]))\n",
    "            high_vals.append(float(data_json[\"Time Series (Daily)\"]\n",
    "                                    [current_day_str][\"2. high\"]))\n",
    "            low_vals.append(float(data_json[\"Time Series (Daily)\"]\n",
    "                                    [current_day_str][\"3. low\"]))\n",
    "            closing_vals.append(float(data_json[\"Time Series (Daily)\"]\n",
    "                                    [current_day_str][\"4. close\"]))\n",
    "            adj_closing_vals.append(float(data_json[\"Time Series (Daily)\"]\n",
    "                                    [current_day_str][\"5. adjusted close\"]))\n",
    "            volumes.append(float(data_json[\"Time Series (Daily)\"]\n",
    "                                    [current_day_str][\"6. volume\"]))\n",
    "            dividends.append(float(data_json[\"Time Series (Daily)\"]\n",
    "                                    [current_day_str][\"7. dividend amount\"]))\n",
    "            dates.append(current_day)\n",
    "        except:\n",
    "            pass\n",
    "        current_day = current_day + timedelta(days=1)\n",
    "    \n",
    "    # make a dictionary that contains lists of the values\n",
    "    data_dict = {\n",
    "    \"Date\" : dates,\n",
    "    \"Open\" : open_vals,    \n",
    "    \"High\" : high_vals,    \n",
    "    \"Close\" : closing_vals,    \n",
    "    \"Adjusted Close\" : adj_closing_vals,\n",
    "    \"Volume\" : volumes,\n",
    "    \"Dividends\" : dividends\n",
    "    }\n",
    "    \n",
    "    # make a dataframe out of the dicitonary\n",
    "    data_df = pd.DataFrame(data_dict)\n",
    "    \n",
    "    # assign each dataframe as a value in a dataframe dictionary\n",
    "    dfs[f\"{manufacturers[counter]}_df\"] = data_df\n",
    "    \n",
    "    # clear all the lists so that they can be used in the next iteration of loop\n",
    "    dates.clear()\n",
    "    open_vals.clear()\n",
    "    high_vals.clear()\n",
    "    low_vals.clear()\n",
    "    adj_closing_vals.clear()\n",
    "    closing_vals.clear()\n",
    "    volumes.clear()\n",
    "    dividends.clear()\n",
    "    data_dict = data_dict.clear()\n",
    "    \n",
    "    # increment the counter\n",
    "    counter = counter + 1\n",
    "    \n",
    "    "
   ]
  },
  {
   "cell_type": "code",
   "execution_count": null,
   "id": "9a72b010",
   "metadata": {},
   "outputs": [],
   "source": [
    "apple_df = dfs[\"apple_df\"]\n",
    "apple_df.to_csv(\"resources/apple_stock_daily.csv\")\n",
    "apple_df"
   ]
  },
  {
   "cell_type": "code",
   "execution_count": null,
   "id": "3b0af79b",
   "metadata": {},
   "outputs": [],
   "source": [
    "motorola_df = dfs[\"motorola_df\"]\n",
    "motorola_df.to_csv('resources/motorola_stock_daily.csv')\n",
    "motorola_df"
   ]
  },
  {
   "cell_type": "code",
   "execution_count": null,
   "id": "338e655a",
   "metadata": {},
   "outputs": [],
   "source": [
    "google_class_c_df = dfs[\"google_class_c_df\"]\n",
    "google_class_c_df.to_csv(\"resources/google_class_c_stock_daily.csv\")\n",
    "google_class_c_df"
   ]
  },
  {
   "cell_type": "code",
   "execution_count": null,
   "id": "6a80d9fe",
   "metadata": {},
   "outputs": [],
   "source": [
    "google_class_a_df = dfs[\"google_class_a_df\"]\n",
    "google_class_a_df.to_csv(\"resources/google_class_a_stock_daily.csv\")\n",
    "google_class_a_df"
   ]
  },
  {
   "cell_type": "code",
   "execution_count": null,
   "id": "05dc4cfe",
   "metadata": {},
   "outputs": [],
   "source": [
    "# plot close price\n",
    "apple_df.plot(\"Date\", \"Adjusted Close\")"
   ]
  },
  {
   "cell_type": "code",
   "execution_count": null,
   "id": "3dce7c19",
   "metadata": {},
   "outputs": [],
   "source": [
    "# This is a test"
   ]
  }
 ],
 "metadata": {
  "kernelspec": {
   "display_name": "Python 3 (ipykernel)",
   "language": "python",
   "name": "python3"
  },
  "language_info": {
   "codemirror_mode": {
    "name": "ipython",
    "version": 3
   },
   "file_extension": ".py",
   "mimetype": "text/x-python",
   "name": "python",
   "nbconvert_exporter": "python",
   "pygments_lexer": "ipython3",
   "version": "3.10.9"
  }
 },
 "nbformat": 4,
 "nbformat_minor": 5
}
