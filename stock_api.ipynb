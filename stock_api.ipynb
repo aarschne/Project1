{
 "cells": [
  {
   "cell_type": "code",
   "execution_count": 1,
   "id": "176c88e2",
   "metadata": {},
   "outputs": [],
   "source": [
    "# import dependencies\n",
    "from api_keys import alpha_vantage_api_key\n",
    "from datetime import datetime, timedelta\n",
    "import pprint as pp\n",
    "import pandas as pd\n",
    "import requests"
   ]
  },
  {
   "cell_type": "code",
   "execution_count": 2,
   "id": "cbddbe2a",
   "metadata": {},
   "outputs": [],
   "source": [
    "# declare date to end analysis at\n",
    "day_end = '2023/05/9'"
   ]
  },
  {
   "cell_type": "markdown",
   "id": "0106026a",
   "metadata": {},
   "source": [
    "Get API data and put it in json"
   ]
  },
  {
   "cell_type": "code",
   "execution_count": 3,
   "id": "54f54e59",
   "metadata": {},
   "outputs": [],
   "source": [
    "# declare codes of tickers used for the manufacturers\n",
    "codes = [\"AAPL\", \"MSI\", \"GOOG\", \"GOOGL\"]\n",
    "manufacturers = [\"apple\", \"motorola\", \"google_class_c\", \"google_class_a\"]\n",
    "\n",
    "# declare dates and closing_vals\n",
    "dates = []\n",
    "closing_vals = []\n",
    "\n",
    "# create dataframe dictionary\n",
    "dfs = {}\n",
    "\n",
    "# initialize counter\n",
    "counter = 0\n",
    "\n",
    "# main for loop that loops through the ticker codes\n",
    "for code in codes:\n",
    "    # get jsons\n",
    "    url = f'https://www.alphavantage.co/query?function=TIME_SERIES_DAILY_ADJUSTED&symbol={code}&outputsize=full&apikey={alpha_vantage_api_key}'\n",
    "    response = requests.get(url)\n",
    "    data_json = response.json()\n",
    "    current_day = datetime.strptime(day_end,'%Y/%m/%d')\n",
    "    \n",
    "    for i in range(365):\n",
    "        try:\n",
    "            current_day_str = current_day.strftime('%Y-%m-%d')\n",
    "        \n",
    "            closing_vals.append(data_json[\"Time Series (Daily)\"]\n",
    "                                    [current_day.strftime('%Y-%m-%d')][\"5. adjusted close\"])\n",
    "            dates.append(current_day_str)\n",
    "        except:\n",
    "            pass\n",
    "        current_day = current_day - timedelta(days=1)\n",
    "    \n",
    "    data_dict = {\n",
    "    \"Date\" : dates,\n",
    "    \"Adjusted Close\" : closing_vals\n",
    "    }\n",
    "    \n",
    "    dfs[f\"{manufacturers[counter]}_df\"] = pd.DataFrame(data_dict)\n",
    "    \n",
    "    dates.clear()\n",
    "    closing_vals.clear()\n",
    "    data_dict = data_dict.clear()\n",
    "    counter = counter + 1\n",
    "    \n",
    "    "
   ]
  },
  {
   "cell_type": "code",
   "execution_count": 4,
   "id": "8f7d1466",
   "metadata": {},
   "outputs": [],
   "source": [
    "apple_df = dfs[\"apple_df\"]\n",
    "apple_df.to_csv(\"apple_closing.csv\")"
   ]
  },
  {
   "cell_type": "code",
   "execution_count": 5,
   "id": "d3d6da41",
   "metadata": {},
   "outputs": [],
   "source": [
    "motorola_df = dfs[\"motorola_df\"]\n",
    "motorola_df\n",
    "motorola_df.to_csv('motorola_closing.csv')"
   ]
  },
  {
   "cell_type": "code",
   "execution_count": 6,
   "id": "95bc5b66",
   "metadata": {},
   "outputs": [
    {
     "ename": "NameError",
     "evalue": "name 'google_class_c' is not defined",
     "output_type": "error",
     "traceback": [
      "\u001b[0;31m---------------------------------------------------------------------------\u001b[0m",
      "\u001b[0;31mNameError\u001b[0m                                 Traceback (most recent call last)",
      "Cell \u001b[0;32mIn[6], line 2\u001b[0m\n\u001b[1;32m      1\u001b[0m google_class_c_df \u001b[38;5;241m=\u001b[39m dfs[\u001b[38;5;124m\"\u001b[39m\u001b[38;5;124mgoogle_class_c_df\u001b[39m\u001b[38;5;124m\"\u001b[39m]\n\u001b[0;32m----> 2\u001b[0m \u001b[43mgoogle_class_c\u001b[49m\u001b[38;5;241m.\u001b[39mto_csv(\u001b[38;5;124m\"\u001b[39m\u001b[38;5;124mgoogle_class_c_closing.csv\u001b[39m\u001b[38;5;124m\"\u001b[39m)\n\u001b[1;32m      3\u001b[0m google_class_c_df\n",
      "\u001b[0;31mNameError\u001b[0m: name 'google_class_c' is not defined"
     ]
    }
   ],
   "source": [
    "google_class_c_df = dfs[\"google_class_c_df\"]\n",
    "google_class_c_df.to_csv(\"google_class_c_closing.csv\")\n",
    "google_class_c_df"
   ]
  },
  {
   "cell_type": "code",
   "execution_count": null,
   "id": "4f7b7364",
   "metadata": {},
   "outputs": [],
   "source": [
    "google_class_a_df = dfs[\"google_class_a_df\"]\n",
    "google_class_a.to_csv(\"google_class_a_closing.csv\")\n",
    "google_class_a_df"
   ]
  },
  {
   "cell_type": "code",
   "execution_count": null,
   "id": "46f63b41",
   "metadata": {},
   "outputs": [],
   "source": []
  }
 ],
 "metadata": {
  "kernelspec": {
   "display_name": "Python 3 (ipykernel)",
   "language": "python",
   "name": "python3"
  },
  "language_info": {
   "codemirror_mode": {
    "name": "ipython",
    "version": 3
   },
   "file_extension": ".py",
   "mimetype": "text/x-python",
   "name": "python",
   "nbconvert_exporter": "python",
   "pygments_lexer": "ipython3",
   "version": "3.10.9"
  }
 },
 "nbformat": 4,
 "nbformat_minor": 5
}
