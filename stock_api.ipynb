{
 "cells": [
  {
   "cell_type": "code",
   "execution_count": 1,
   "id": "e3d1d08d",
   "metadata": {},
   "outputs": [],
   "source": [
    "# import dependencies\n",
    "from api_keys import alpha_vantage_api_key\n",
    "from datetime import datetime, timedelta\n",
    "import pprint as pp\n",
    "import pandas as pd\n",
    "import requests"
   ]
  },
  {
   "cell_type": "code",
   "execution_count": 2,
   "id": "f7c0670a",
   "metadata": {},
   "outputs": [],
   "source": [
    "# declare date to end analysis at\n",
    "day_end = '2023/05/9'"
   ]
  },
  {
   "cell_type": "markdown",
   "id": "9a4dd9ca",
   "metadata": {},
   "source": [
    "Get API data and put it in json"
   ]
  },
  {
   "cell_type": "code",
   "execution_count": 30,
   "id": "065d45fd",
   "metadata": {},
   "outputs": [],
   "source": [
    "# declare codes of tickers used for the manufacturers\n",
    "codes = [\"AAPL\", \"MSI\", \"GOOG\", \"GOOGL\"]\n",
    "manufacturers = [\"apple\", \"motorola\", \"google_class_c\", \"google_class_a\"]\n",
    "\n",
    "# declare dates and closing_vals\n",
    "dates = []\n",
    "closing_vals = []\n",
    "\n",
    "# create dataframe dictionary\n",
    "dfs = {}\n",
    "\n",
    "# initialize counter\n",
    "counter = 0\n",
    "\n",
    "# main for loop that loops through the ticker codes\n",
    "for code in codes:\n",
    "    # get jsons\n",
    "    url = f'https://www.alphavantage.co/query?function=TIME_SERIES_DAILY_ADJUSTED&symbol={code}&outputsize=full&apikey={alpha_vantage_api_key}'\n",
    "    response = requests.get(url)\n",
    "    data_json = response.json()\n",
    "    current_day = datetime.strptime(day_end,'%Y/%m/%d')\n",
    "    \n",
    "    for i in range(365):\n",
    "        try:\n",
    "            current_day_str = current_day.strftime('%Y-%m-%d')\n",
    "        \n",
    "            closing_vals.append(data_json[\"Time Series (Daily)\"]\n",
    "                                    [current_day.strftime('%Y-%m-%d')][\"5. adjusted close\"])\n",
    "            dates.append(current_day_str)\n",
    "        except:\n",
    "            pass\n",
    "        current_day = current_day - timedelta(days=1)\n",
    "    \n",
    "    data_dict = {\n",
    "    \"Date\" : dates,\n",
    "    \"Adjusted Close\" : closing_vals\n",
    "    }\n",
    "    \n",
    "    dfs[f\"{manufacturers[counter]}_df\"] = pd.DataFrame(data_dict)\n",
    "    \n",
    "    dates.clear()\n",
    "    closing_vals.clear()\n",
    "    data_dict.clear()\n",
    "    counter = counter + 1\n",
    "    \n",
    "    "
   ]
  },
  {
   "cell_type": "code",
   "execution_count": 31,
   "id": "f285b357",
   "metadata": {},
   "outputs": [
    {
     "data": {
      "text/html": [
       "<div>\n",
       "<style scoped>\n",
       "    .dataframe tbody tr th:only-of-type {\n",
       "        vertical-align: middle;\n",
       "    }\n",
       "\n",
       "    .dataframe tbody tr th {\n",
       "        vertical-align: top;\n",
       "    }\n",
       "\n",
       "    .dataframe thead th {\n",
       "        text-align: right;\n",
       "    }\n",
       "</style>\n",
       "<table border=\"1\" class=\"dataframe\">\n",
       "  <thead>\n",
       "    <tr style=\"text-align: right;\">\n",
       "      <th></th>\n",
       "      <th>Date</th>\n",
       "      <th>Adjusted Close</th>\n",
       "    </tr>\n",
       "  </thead>\n",
       "  <tbody>\n",
       "  </tbody>\n",
       "</table>\n",
       "</div>"
      ],
      "text/plain": [
       "Empty DataFrame\n",
       "Columns: [Date, Adjusted Close]\n",
       "Index: []"
      ]
     },
     "execution_count": 31,
     "metadata": {},
     "output_type": "execute_result"
    }
   ],
   "source": [
    "apple_df = dfs[\"apple_df\"]\n",
    "apple_df"
   ]
  },
  {
   "cell_type": "code",
   "execution_count": 32,
   "id": "fbc5c57c",
   "metadata": {},
   "outputs": [
    {
     "data": {
      "text/html": [
       "<div>\n",
       "<style scoped>\n",
       "    .dataframe tbody tr th:only-of-type {\n",
       "        vertical-align: middle;\n",
       "    }\n",
       "\n",
       "    .dataframe tbody tr th {\n",
       "        vertical-align: top;\n",
       "    }\n",
       "\n",
       "    .dataframe thead th {\n",
       "        text-align: right;\n",
       "    }\n",
       "</style>\n",
       "<table border=\"1\" class=\"dataframe\">\n",
       "  <thead>\n",
       "    <tr style=\"text-align: right;\">\n",
       "      <th></th>\n",
       "      <th>Date</th>\n",
       "      <th>Adjusted Close</th>\n",
       "    </tr>\n",
       "  </thead>\n",
       "  <tbody>\n",
       "  </tbody>\n",
       "</table>\n",
       "</div>"
      ],
      "text/plain": [
       "Empty DataFrame\n",
       "Columns: [Date, Adjusted Close]\n",
       "Index: []"
      ]
     },
     "execution_count": 32,
     "metadata": {},
     "output_type": "execute_result"
    }
   ],
   "source": [
    "motorola_df = dfs[\"motorola_df\"]\n",
    "motorola_df"
   ]
  },
  {
   "cell_type": "code",
   "execution_count": 14,
   "id": "ea9d206f",
   "metadata": {},
   "outputs": [
    {
     "data": {
      "text/html": [
       "<div>\n",
       "<style scoped>\n",
       "    .dataframe tbody tr th:only-of-type {\n",
       "        vertical-align: middle;\n",
       "    }\n",
       "\n",
       "    .dataframe tbody tr th {\n",
       "        vertical-align: top;\n",
       "    }\n",
       "\n",
       "    .dataframe thead th {\n",
       "        text-align: right;\n",
       "    }\n",
       "</style>\n",
       "<table border=\"1\" class=\"dataframe\">\n",
       "  <thead>\n",
       "    <tr style=\"text-align: right;\">\n",
       "      <th></th>\n",
       "      <th>Date</th>\n",
       "      <th>Adjusted Close</th>\n",
       "    </tr>\n",
       "  </thead>\n",
       "  <tbody>\n",
       "    <tr>\n",
       "      <th>0</th>\n",
       "      <td>2023-05-09</td>\n",
       "      <td>171.77</td>\n",
       "    </tr>\n",
       "    <tr>\n",
       "      <th>1</th>\n",
       "      <td>2023-05-08</td>\n",
       "      <td>173.5</td>\n",
       "    </tr>\n",
       "    <tr>\n",
       "      <th>2</th>\n",
       "      <td>2023-05-05</td>\n",
       "      <td>173.57</td>\n",
       "    </tr>\n",
       "    <tr>\n",
       "      <th>3</th>\n",
       "      <td>2023-05-04</td>\n",
       "      <td>165.79</td>\n",
       "    </tr>\n",
       "    <tr>\n",
       "      <th>4</th>\n",
       "      <td>2023-05-03</td>\n",
       "      <td>167.45</td>\n",
       "    </tr>\n",
       "    <tr>\n",
       "      <th>...</th>\n",
       "      <td>...</td>\n",
       "      <td>...</td>\n",
       "    </tr>\n",
       "    <tr>\n",
       "      <th>748</th>\n",
       "      <td>2022-05-16</td>\n",
       "      <td>114.7925</td>\n",
       "    </tr>\n",
       "    <tr>\n",
       "      <th>749</th>\n",
       "      <td>2022-05-13</td>\n",
       "      <td>116.5155</td>\n",
       "    </tr>\n",
       "    <tr>\n",
       "      <th>750</th>\n",
       "      <td>2022-05-12</td>\n",
       "      <td>113.161</td>\n",
       "    </tr>\n",
       "    <tr>\n",
       "      <th>751</th>\n",
       "      <td>2022-05-11</td>\n",
       "      <td>113.961</td>\n",
       "    </tr>\n",
       "    <tr>\n",
       "      <th>752</th>\n",
       "      <td>2022-05-10</td>\n",
       "      <td>114.5845</td>\n",
       "    </tr>\n",
       "  </tbody>\n",
       "</table>\n",
       "<p>753 rows × 2 columns</p>\n",
       "</div>"
      ],
      "text/plain": [
       "           Date Adjusted Close\n",
       "0    2023-05-09         171.77\n",
       "1    2023-05-08          173.5\n",
       "2    2023-05-05         173.57\n",
       "3    2023-05-04         165.79\n",
       "4    2023-05-03         167.45\n",
       "..          ...            ...\n",
       "748  2022-05-16       114.7925\n",
       "749  2022-05-13       116.5155\n",
       "750  2022-05-12        113.161\n",
       "751  2022-05-11        113.961\n",
       "752  2022-05-10       114.5845\n",
       "\n",
       "[753 rows x 2 columns]"
      ]
     },
     "execution_count": 14,
     "metadata": {},
     "output_type": "execute_result"
    }
   ],
   "source": [
    "google_class_c_df = dfs[\"google_class_c_df\"]\n",
    "google_class_c_df"
   ]
  },
  {
   "cell_type": "code",
   "execution_count": 7,
   "id": "7fa9f987",
   "metadata": {},
   "outputs": [],
   "source": [
    "google_class_a_df = dfs[\"google_class_a_df\"]"
   ]
  },
  {
   "cell_type": "code",
   "execution_count": null,
   "id": "f288a9ff",
   "metadata": {},
   "outputs": [],
   "source": []
  }
 ],
 "metadata": {
  "kernelspec": {
   "display_name": "Python 3 (ipykernel)",
   "language": "python",
   "name": "python3"
  },
  "language_info": {
   "codemirror_mode": {
    "name": "ipython",
    "version": 3
   },
   "file_extension": ".py",
   "mimetype": "text/x-python",
   "name": "python",
   "nbconvert_exporter": "python",
   "pygments_lexer": "ipython3",
   "version": "3.10.9"
  }
 },
 "nbformat": 4,
 "nbformat_minor": 5
}
